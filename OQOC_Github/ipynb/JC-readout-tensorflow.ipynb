{
 "cells": [
  {
   "cell_type": "code",
   "execution_count": 1,
   "metadata": {
    "collapsed": false,
    "scrolled": false
   },
   "outputs": [
    {
     "name": "stdout",
     "output_type": "stream",
     "text": [
      "Populating the interactive namespace from numpy and matplotlib\n",
      "/home/nelson/Simulations/Mohamed/OQOC_Github\n"
     ]
    },
    {
     "name": "stderr",
     "output_type": "stream",
     "text": [
      "/usr/local/lib/python2.7/dist-packages/matplotlib/font_manager.py:273: UserWarning: Matplotlib is building the font cache using fc-list. This may take a moment.\n",
      "  warnings.warn('Matplotlib is building the font cache using fc-list. This may take a moment.')\n"
     ]
    }
   ],
   "source": [
    "import scipy.linalg as la\n",
    "import os,sys,inspect\n",
    "currentdir = os.path.dirname(os.path.abspath(inspect.getfile(inspect.currentframe())))\n",
    "parentdir = os.path.dirname(currentdir)\n",
    "sys.path.insert(0,parentdir) \n",
    "from helper_functions.grape_functions import *\n",
    "from main_grape.Grape_original import Grape\n",
    "from helper_functions.qutip_open_verification import *\n",
    "from helper_functions.qutip_mmt_verification import *\n",
    "\n",
    "%pylab inline\n",
    "\n",
    "print parentdir\n",
    "from IPython import display\n"
   ]
  },
  {
   "cell_type": "code",
   "execution_count": null,
   "metadata": {
    "collapsed": true
   },
   "outputs": [],
   "source": []
  },
  {
   "cell_type": "code",
   "execution_count": null,
   "metadata": {
    "collapsed": false
   },
   "outputs": [],
   "source": []
  },
  {
   "cell_type": "code",
   "execution_count": null,
   "metadata": {
    "collapsed": false
   },
   "outputs": [],
   "source": []
  },
  {
   "cell_type": "code",
   "execution_count": 2,
   "metadata": {
    "collapsed": false
   },
   "outputs": [
    {
     "name": "stdout",
     "output_type": "stream",
     "text": [
      "(2, 100)\n",
      "2\n"
     ]
    }
   ],
   "source": [
    "#Defining time scales\n",
    "total_time = 100\n",
    "steps = 300\n",
    "state_transfer = True\n",
    "RWA = True\n",
    "RFT = True\n",
    "\n",
    "#Defining H0\n",
    "qubit_state_num = 2\n",
    "\n",
    "fq= 4.6/(2*np.pi)\n",
    "kappa = 0.05\n",
    "gamma = 0.001\n",
    "g = 0.05\n",
    "\n",
    "mode_state_num = 50\n",
    "#g = 2.*np.pi*0.1 #GHz\n",
    "mode_freq1 = 5.0/(2*np.pi) #GHz\n",
    "state_num = qubit_state_num * mode_state_num\n",
    "\n",
    "wc = 2*np.pi*mode_freq1\n",
    "wa = 2*np.pi*fq\n",
    "\n",
    "a   = np.kron(np.diag(np.sqrt(np.arange(1,mode_state_num)),1),np.identity(qubit_state_num))\n",
    "adag   = np.kron(np.diag(np.sqrt(np.arange(1,mode_state_num)),-1),np.identity(qubit_state_num))\n",
    "sm = np.kron(np.identity(mode_state_num),np.diag(np.sqrt(np.arange(1,qubit_state_num)),1))\n",
    "smdag = np.kron(np.identity(mode_state_num),np.diag(np.sqrt(np.arange(1,qubit_state_num)),-1))\n",
    "if RFT:\n",
    "    if RWA: \n",
    "        H0 = (wa -wc) * np.dot(smdag,sm) + g * (np.dot(adag,sm) + np.dot(a,smdag))\n",
    "    else:\n",
    "        H0 =  (wa-wc) * np.dot(smdag,sm) +  g * np.dot((adag + a),(sm + smdag))\n",
    "    \n",
    "else:\n",
    "    if RWA:\n",
    "         H0 = wc * np.dot(adag,a) + wa * np.dot(smdag,sm) + g * (np.dot(adag,sm) + np.dot(a,smdag))\n",
    "    else:\n",
    "         H0 = wc * np.dot(adag,a) + wa * np.dot(smdag,sm) +  g * np.dot((adag + a),(sm + smdag))\n",
    "#Defining Forbidden sates\n",
    "\n",
    "\n",
    "#Defining Concerned states (starting states)\n",
    "psi0=[0,1]\n",
    "\n",
    "#Defining states to include in the drawing of occupation\n",
    "states_draw_list = [0,1,2]\n",
    "states_draw_names = ['g0','e0','g1']\n",
    "\n",
    "\n",
    "\n",
    "\n",
    "#Defining U (Target)\n",
    "if state_transfer:\n",
    "    U =[]\n",
    "    U1 = np.zeros(state_num,dtype=complex)\n",
    "    U1[1]=1\n",
    "    U1[0]=0\n",
    "    U.append(U1)\n",
    "    U2 = np.zeros(state_num,dtype=complex)\n",
    "    U2[0]=1\n",
    "    U.append(U2)\n",
    "    \n",
    "else:\n",
    "    Ut_c = la.expm((0-1j)*total_time*H0)\n",
    "    Ct_c = Ut_c.copy()\n",
    "    Ct_c[1,0] = 1\n",
    "    Ct_c[0,1] = 1\n",
    "    Ct_c[0,0] = 0\n",
    "    Ct_c[1,1] = 0\n",
    "    U = Ct_c\n",
    "\n",
    "print np.shape(U)\n",
    "#Defining U0 (Initial)\n",
    "q_identity = np.identity(qubit_state_num)\n",
    "U0= q_identity\n",
    "\n",
    "#Defining control Hs\n",
    "IX = a + adag\n",
    "IY = (0+1j)* (a-adag)\n",
    "Hops = [IX]\n",
    "ops_max_amp = [2]\n",
    "Hnames =['HI']\n",
    "\n",
    "#Defining convergence parameters\n",
    "max_iterations = 500\n",
    "decay = max_iterations/2\n",
    "convergence = {'rate':0.005, 'update_step':10, 'max_iterations':max_iterations,\\\n",
    "               'conv_target':1e-10,'learning_rate_decay':decay}\n",
    "reg_coeffs = {'envelope' : 0.001,  'dwdt':0.001,'d2wdt2':0.0001*0.001}\n",
    "#, 'forbidden':100 , 'states_forbidden_list': [3]\n",
    "#reg_coeffs = { 'speed_up':100}\n",
    "#reg_coeffs = {'envelope' : 0,  'dwdt':0,'d2wdt2':0}\n",
    "#multi_mode = {'dressed':dressed, 'vectors':v_c, 'qnum':qubit_state_num, 'mnum': mode_state_num,\\\n",
    "              #'f':freq_ge, 'es':w_c, 'g1':qm_g1, 'D':D, 'Interpolation':True, 'Modulation':True}\n",
    "\n",
    "    #Defining initial pulses\n",
    "\n",
    "print len(U)\n"
   ]
  },
  {
   "cell_type": "code",
   "execution_count": 3,
   "metadata": {
    "collapsed": false
   },
   "outputs": [
    {
     "name": "stdout",
     "output_type": "stream",
     "text": [
      "[ 0.20311289+0.j -0.60311289+0.j  0.00615528+0.j -0.40615528+0.j\n",
      "  0.01213203+0.j -0.41213203+0.j  0.01794495+0.j -0.41794495+0.j\n",
      "  0.02360680+0.j -0.42360680+0.j  0.02912878+0.j -0.42912878+0.j\n",
      "  0.03452079+0.j -0.43452079+0.j  0.03979158+0.j -0.43979158+0.j\n",
      "  0.04494897+0.j -0.44494897+0.j  0.05000000+0.j -0.45000000+0.j\n",
      "  0.05495098+0.j -0.45495098+0.j  0.05980762+0.j -0.45980762+0.j\n",
      "  0.06457513+0.j -0.46457513+0.j  0.06925824+0.j -0.46925824+0.j\n",
      "  0.07386128+0.j -0.47386128+0.j  0.07838822+0.j -0.47838822+0.j\n",
      "  0.08284271+0.j -0.48284271+0.j  0.08722813+0.j -0.48722813+0.j\n",
      " -0.49154759+0.j  0.09154759+0.j  0.09580399+0.j -0.49580399+0.j\n",
      "  0.10000000+0.j -0.50000000+0.j  0.10413813+0.j -0.50413813+0.j\n",
      " -0.50822070+0.j  0.10822070+0.j  0.11224990+0.j -0.51224990+0.j\n",
      " -0.51622777+0.j  0.11622777+0.j  0.12015621+0.j -0.52015621+0.j\n",
      "  0.12403703+0.j -0.52403703+0.j  0.12787193+0.j -0.52787193+0.j\n",
      "  0.13166248+0.j -0.53166248+0.j  0.13541020+0.j -0.53541020+0.j\n",
      "  0.13911650+0.j -0.53911650+0.j  0.14278273+0.j -0.54278273+0.j\n",
      "  0.14641016+0.j -0.54641016+0.j  0.15000000+0.j -0.55000000+0.j\n",
      "  0.15355339+0.j -0.55355339+0.j  0.15707142+0.j -0.55707142+0.j\n",
      "  0.16055513+0.j -0.56055513+0.j  0.16400549+0.j -0.56400549+0.j\n",
      "  0.16742346+0.j -0.56742346+0.j  0.17080992+0.j -0.57080992+0.j\n",
      "  0.17416574+0.j -0.57416574+0.j  0.17749172+0.j -0.57749172+0.j\n",
      "  0.18078866+0.j -0.58078866+0.j  0.18405729+0.j -0.58405729+0.j\n",
      "  0.18729833+0.j -0.58729833+0.j  0.19051248+0.j -0.59051248+0.j\n",
      "  0.19370039+0.j -0.59370039+0.j -0.59686270+0.j  0.19686270+0.j\n",
      "  0.20000000+0.j -0.60000000+0.j  0.00000000+0.j -0.40000000+0.j]\n",
      "[98, 97, 2, 1, 4, 3, 6, 5, 8, 7, 10, 9, 12, 11, 14, 13, 16, 15, 18, 17, 20, 19, 22, 21, 24, 23, 26, 25, 28, 27, 30, 29, 32, 31, 34, 33, 35, 36, 38, 37, 40, 39, 42, 41, 43, 44, 46, 45, 47, 48, 50, 49, 52, 51, 54, 53, 56, 55, 58, 57, 60, 59, 62, 61, 64, 63, 66, 65, 68, 67, 70, 69, 72, 71, 74, 73, 76, 75, 78, 77, 80, 79, 82, 81, 84, 83, 86, 85, 88, 87, 90, 89, 92, 91, 93, 94, 96, 95, 0, 99]\n",
      "[ 1.  0.  0.  0.  0.  0.  0.  0.  0.  0.  0.  0.  0.  0.  0.  0.  0.  0.\n",
      "  0.  0.  0.  0.  0.  0.  0.  0.  0.  0.  0.  0.  0.  0.  0.  0.  0.  0.\n",
      "  0.  0.  0.  0.  0.  0.  0.  0.  0.  0.  0.  0.  0.  0.  0.  0.  0.  0.\n",
      "  0.  0.  0.  0.  0.  0.  0.  0.  0.  0.  0.  0.  0.  0.  0.  0.  0.  0.\n",
      "  0.  0.  0.  0.  0.  0.  0.  0.  0.  0.  0.  0.  0.  0.  0.  0.  0.  0.\n",
      "  0.  0.  0.  0.  0.  0.  0.  0.  0.  0.]\n",
      "[ 0.         -0.99250756  0.12218326  0.          0.          0.          0.\n",
      "  0.          0.          0.          0.          0.          0.          0.\n",
      "  0.          0.          0.          0.          0.          0.          0.\n",
      "  0.          0.          0.          0.          0.          0.          0.\n",
      "  0.          0.          0.          0.          0.          0.          0.\n",
      "  0.          0.          0.          0.          0.          0.          0.\n",
      "  0.          0.          0.          0.          0.          0.          0.\n",
      "  0.          0.          0.          0.          0.          0.          0.\n",
      "  0.          0.          0.          0.          0.          0.          0.\n",
      "  0.          0.          0.          0.          0.          0.          0.\n",
      "  0.          0.          0.          0.          0.          0.          0.\n",
      "  0.          0.          0.          0.          0.          0.          0.\n",
      "  0.          0.          0.          0.          0.          0.          0.\n",
      "  0.          0.          0.          0.          0.          0.          0.\n",
      "  0.          0.        ]\n"
     ]
    }
   ],
   "source": [
    "w_c, v_c, dressed_id = get_dressed_info(H0)\n",
    "print w_c\n",
    "print dressed_id\n",
    "g0 = v_c[:,get_state_index(0,dressed_id)]\n",
    "print g0\n",
    "print v_c[:,get_state_index(1,dressed_id)]"
   ]
  },
  {
   "cell_type": "code",
   "execution_count": 4,
   "metadata": {
    "collapsed": false
   },
   "outputs": [
    {
     "name": "stdout",
     "output_type": "stream",
     "text": [
      "0.001\n"
     ]
    }
   ],
   "source": [
    "\n",
    "c_ops=[]\n",
    "c_ops.append(np.sqrt(gamma)*sm)\n",
    "c_ops.append(np.sqrt(kappa)*a)\n",
    "#c_ops.append(ef)\n",
    "\n",
    "#print c_ops\n",
    "print gamma\n"
   ]
  },
  {
   "cell_type": "code",
   "execution_count": null,
   "metadata": {
    "collapsed": false
   },
   "outputs": [
    {
     "data": {
      "text/plain": [
       "[<matplotlib.lines.Line2D at 0x7f3400d26f50>]"
      ]
     },
     "execution_count": 5,
     "metadata": {},
     "output_type": "execute_result"
    },
    {
     "data": {
      "image/png": "[encoded data removed]",
      "text/plain": [
       "<matplotlib.figure.Figure at 0x7f348d12efd0>"
      ]
     },
     "metadata": {},
     "output_type": "display_data"
    }
   ],
   "source": [
    "import h5py\n",
    "\n",
    "with h5py.File('/home/mohamed/Data/00878_Qubit_Pi_open.h5','r') as hf:\n",
    "    u0 = np.array(hf.get('uks'))[-1]\n",
    "\n",
    "u0 = None\n",
    "\n",
    "u0 = []\n",
    "signal = 0.04*np.tanh(np.linspace(0,total_time, steps)/10)\n",
    "u0.append(signal)\n",
    "#u0.append(signal)\n",
    "#u0.append(2*np.ones(steps))\n",
    "\n",
    "u0 = None\n",
    "plot (np.linspace(0,total_time, steps), signal)"
   ]
  },
  {
   "cell_type": "code",
   "execution_count": null,
   "metadata": {
    "collapsed": false,
    "scrolled": false
   },
   "outputs": [
    {
     "name": "stdout",
     "output_type": "stream",
     "text": [
      "data saved at: /home/mohamed/Data/00306_JC.h5\n",
      "Using 11 Taylor terms and 0 Scaling & Squaring terms\n",
      "Building graph:\n",
      "Operators weight initialized."
     ]
    }
   ],
   "source": [
    " #Extra options\n",
    "#reg_coeffs = reg_coeffs,draw = [states_draw_list,states_draw_names] ,forbidden = states_forbidden_list,multi_mode = multi_mode,\n",
    "#maxA = ops_max_amp,use_gpu = True\n",
    "\n",
    "      \n",
    "uks,U_final = Grape(H0,Hops,Hnames,U,total_time,steps,psi0,convergence=convergence, draw = [states_draw_list,states_draw_names],  \n",
    "                    \n",
    "                    show_plots = True, c_ops = c_ops, initial_guess = u0, use_gpu = True,\n",
    "       unitary_error = 1e-4,  maxA=ops_max_amp, state_transfer = state_transfer, method ='Adam', expect_op = a + adag,\n",
    "                    reg_coeffs=reg_coeffs, file_name='JC', trajectories = 2000, do_all_traj = False,\n",
    "                    data_path = '/home/mohamed/Data')"
   ]
  },
  {
   "cell_type": "code",
   "execution_count": null,
   "metadata": {
    "collapsed": false
   },
   "outputs": [],
   "source": []
  },
  {
   "cell_type": "code",
   "execution_count": null,
   "metadata": {
    "collapsed": false,
    "scrolled": false
   },
   "outputs": [],
   "source": [
    "file_name = '/home/mohamed/Data/00286_JC.h5'\n",
    "mmt_qutip_verification(file_name, np.dot(adag,a) )\n",
    "mmt_qutip_verification(file_name, adag+a )\n",
    "mmt_qutip_verification(file_name, (0+1j)* (a-adag) )"
   ]
  },
  {
   "cell_type": "code",
   "execution_count": null,
   "metadata": {
    "collapsed": false
   },
   "outputs": [],
   "source": []
  }
 ],
 "metadata": {
  "kernelspec": {
   "display_name": "Python 2",
   "language": "python",
   "name": "python2"
  },
  "language_info": {
   "codemirror_mode": {
    "name": "ipython",
    "version": 2
   },
   "file_extension": ".py",
   "mimetype": "text/x-python",
   "name": "python",
   "nbconvert_exporter": "python",
   "pygments_lexer": "ipython2",
   "version": "2.7.12"
  }
 },
 "nbformat": 4,
 "nbformat_minor": 0
}
